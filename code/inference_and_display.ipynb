{
 "cells": [
  {
   "cell_type": "code",
   "execution_count": 4,
   "metadata": {},
   "outputs": [],
   "source": [
    "from inference import GeoInference\n",
    "from utils.obb_nms import load_and_run_nms"
   ]
  },
  {
   "cell_type": "code",
   "execution_count": null,
   "metadata": {},
   "outputs": [
    {
     "name": "stdout",
     "output_type": "stream",
     "text": [
      "Using device: cuda\n",
      "Loaded model from /home/hurr_son/repos/yolo-geospatial-implementations/models/pretrained/yolo11n-obb.pt\n",
      "Loaded classes: {0: 'plane', 1: 'ship', 2: 'storage tank', 3: 'baseball diamond', 4: 'tennis court', 5: 'basketball court', 6: 'ground track field', 7: 'harbor', 8: 'bridge', 9: 'large vehicle', 10: 'small vehicle', 11: 'helicopter', 12: 'roundabout', 13: 'soccer ball field', 14: 'swimming pool'}\n",
      "Processing image: https://coastalimagery.blob.core.windows.net/digitalcoast/TampaBayFL_RGBN_2023_9995/357000e3090000n.tif\n",
      "Generated 10 x_windows and 10 y_windows for image https://coastalimagery.blob.core.windows.net/digitalcoast/TampaBayFL_RGBN_2023_9995/357000e3090000n.tif\n",
      "Detections collected from image https://coastalimagery.blob.core.windows.net/digitalcoast/TampaBayFL_RGBN_2023_9995/357000e3090000n.tif: 843\n",
      "Saving 843 detections to /home/hurr_son/repos/yolo-geospatial-implementations/test/detection.parquet\n"
     ]
    }
   ],
   "source": [
    "model_path = '/home/hurr_son/repos/yolo-geospatial-implementations/models/pretrained/yolo11n-obb.pt'\n",
    "class_yaml_path = '/home/hurr_son/repos/yolo-geospatial-implementations/models/class-yaml/dotav1.yaml'\n",
    "output_path = '/home/hurr_son/repos/yolo-geospatial-implementations/test/detection.parquet'\n",
    "# stac_catalog_url = 'https://coastalimagery.blob.core.windows.net/digitalcoast/TampaBayFL_RGBN_2023_9995/stac/catalog.json'\n",
    "cog_url = 'https://coastalimagery.blob.core.windows.net/digitalcoast/TampaBayFL_RGBN_2023_9995/357000e3090000n.tif'\n",
    "window_size = 1280\n",
    "stride = 1280\n",
    "conf_threshold = 0.4\n",
    "iou_threshold = 0.5\n",
    "# classes_list = ['person', 'bus']  \n",
    "detection_type = 'obb' \n",
    "\n",
    "\n",
    "geo_inference = GeoInference(\n",
    "        model_path=model_path,\n",
    "        class_yaml_path=class_yaml_path,\n",
    "        output_path=output_path,\n",
    "        window_size=window_size,\n",
    "        stride=stride,\n",
    "        conf_threshold=conf_threshold,\n",
    "        iou_threshold=iou_threshold,\n",
    "        # classes_list=classes_list,\n",
    "        detection_type=detection_type\n",
    "    )\n",
    "\n",
    "geo_inference.run(cog_url=cog_url)\n",
    "# geo_inference.run(cog_url=cog_url, generate_crops=True, crops_output_dir='/home/hurr_son/repos/yolo-geospatial-implementations/code/test/crops')\n",
    "# load_and_run_nms(input_parquet=output_path, output_parquet=\"/home/hurr_son/repos/yolo-geospatial-implementations/test/filtered_detections.parquet\", iou_threshold=0.05)"
   ]
  },
  {
   "cell_type": "code",
   "execution_count": 10,
   "metadata": {},
   "outputs": [],
   "source": [
    "import leafmap as leafmap\n",
    "import geopandas as gpd"
   ]
  },
  {
   "cell_type": "code",
   "execution_count": 13,
   "metadata": {},
   "outputs": [
    {
     "data": {
      "application/vnd.jupyter.widget-view+json": {
       "model_id": "dc15f57ff53b4cd09f7284712bcf5b42",
       "version_major": 2,
       "version_minor": 0
      },
      "text/plain": [
       "Map(center=[40, -100], controls=(ZoomControl(options=['position', 'zoom_in_text', 'zoom_in_title', 'zoom_out_t…"
      ]
     },
     "execution_count": 13,
     "metadata": {},
     "output_type": "execute_result"
    }
   ],
   "source": [
    "m = leafmap.Map(center=(40, -100), zoom=4)\n",
    "m.add_cog_layer(cog_url)\n",
    "\n",
    "gdf = gpd.read_parquet(output_path)\n",
    "m.add_gdf(gdf)\n",
    "m"
   ]
  },
  {
   "cell_type": "code",
   "execution_count": null,
   "metadata": {},
   "outputs": [],
   "source": []
  }
 ],
 "metadata": {
  "kernelspec": {
   "display_name": "ultralytics-env",
   "language": "python",
   "name": "python3"
  },
  "language_info": {
   "codemirror_mode": {
    "name": "ipython",
    "version": 3
   },
   "file_extension": ".py",
   "mimetype": "text/x-python",
   "name": "python",
   "nbconvert_exporter": "python",
   "pygments_lexer": "ipython3",
   "version": "3.10.15"
  }
 },
 "nbformat": 4,
 "nbformat_minor": 2
}
