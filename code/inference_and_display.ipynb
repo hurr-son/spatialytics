{
 "cells": [
  {
   "cell_type": "code",
   "execution_count": 1,
   "metadata": {},
   "outputs": [],
   "source": [
    "from inference import GeoInference\n",
    "from utils.obb_nms import load_and_run_nms"
   ]
  },
  {
   "cell_type": "code",
   "execution_count": 3,
   "metadata": {},
   "outputs": [],
   "source": [
    "mke_naip_uris = ['https://coastalimagery.blob.core.windows.net/digitalcoast/WI_NAIP_2020_9514/m_4208701_ne_16_060_20200902.tif',\n",
    "                 'https://coastalimagery.blob.core.windows.net/digitalcoast/WI_NAIP_2020_9514/m_4208701_nw_16_060_20200902.tif',\n",
    "                 'https://coastalimagery.blob.core.windows.net/digitalcoast/WI_NAIP_2020_9514/m_4208702_nw_16_060_20200902.tif',\n",
    "                 'https://coastalimagery.blob.core.windows.net/digitalcoast/WI_NAIP_2020_9514/m_4208808_ne_16_060_20200902.tif',\n",
    "                 'https://coastalimagery.blob.core.windows.net/digitalcoast/WI_NAIP_2020_9514/m_4308757_ne_16_060_20200902.tif',\n",
    "                 'https://coastalimagery.blob.core.windows.net/digitalcoast/WI_NAIP_2020_9514/m_4308757_nw_16_060_20200902.tif',\n",
    "                 'https://coastalimagery.blob.core.windows.net/digitalcoast/WI_NAIP_2020_9514/m_4308757_se_16_060_20200902.tif',\n",
    "                 'https://coastalimagery.blob.core.windows.net/digitalcoast/WI_NAIP_2020_9514/m_4308757_sw_16_060_20200902.tif',\n",
    "                 'https://coastalimagery.blob.core.windows.net/digitalcoast/WI_NAIP_2020_9514/m_4308758_nw_16_060_20200717.tif',\n",
    "                 'https://coastalimagery.blob.core.windows.net/digitalcoast/WI_NAIP_2020_9514/m_4308758_sw_16_060_20200902.tif',\n",
    "                 'https://coastalimagery.blob.core.windows.net/digitalcoast/WI_NAIP_2020_9514/m_4308864_ne_16_060_20200902.tif',\n",
    "                 'https://coastalimagery.blob.core.windows.net/digitalcoast/WI_NAIP_2020_9514/m_4308864_se_16_060_20200902.tif']"
   ]
  },
  {
   "cell_type": "code",
   "execution_count": null,
   "metadata": {},
   "outputs": [],
   "source": []
  },
  {
   "cell_type": "code",
   "execution_count": null,
   "metadata": {},
   "outputs": [],
   "source": [
    "model_path = '/home/hurr_son/repos/yolo-geospatial-implementations/models/pretrained/yolo11n.pt'\n",
    "output_path = '/home/hurr_son/repos/yolo-geospatial-implementations/test/detection.parquet'\n",
    "# stac_catalog_url = 'https://coastalimagery.blob.core.windows.net/digitalcoast/TampaBayFL_RGBN_2023_9995/stac/catalog.json'\n",
    "cog_url = 'https://coastalimagery.blob.core.windows.net/digitalcoast/TampaBayFL_RGBN_2023_9995/357000e3090000n.tif'\n",
    "window_size = 640\n",
    "stride = 480\n",
    "conf_threshold = 0.001\n",
    "iou_threshold = 0.25\n",
    "# classes_list = [1,6,9,10,7]  \n",
    "detection_type = 'bbox' \n",
    "\n",
    "\n",
    "geo_inference = GeoInference(\n",
    "        model_path=model_path,\n",
    "        output_path=output_path,\n",
    "        window_size=window_size,\n",
    "        stride=stride,\n",
    "        conf_threshold=conf_threshold,\n",
    "        iou_threshold=iou_threshold,\n",
    "        # classes_list=classes_list,\n",
    "        detection_type=detection_type\n",
    "    )\n",
    "\n",
    "geo_inference.run(cog_urls=mke_naip_uris)\n",
    "# geo_inference.run(cog_url=cog_url, generate_crops=True, crops_output_dir='/home/hurr_son/repos/yolo-geospatial-implementations/code/test/crops')\n",
    "# load_and_run_nms(input_parquet=output_path, output_parquet=\"/home/hurr_son/repos/yolo-geospatial-implementations/test/filtered_detections.parquet\", iou_threshold=0.05)"
   ]
  },
  {
   "cell_type": "code",
   "execution_count": 4,
   "metadata": {},
   "outputs": [],
   "source": [
    "import leafmap as leafmap\n",
    "import geopandas as gpd"
   ]
  },
  {
   "cell_type": "code",
   "execution_count": 5,
   "metadata": {},
   "outputs": [],
   "source": [
    "m = leafmap.Map(center=(40, -100), zoom=4)\n",
    "for uri in mke_naip_uris:\n",
    "    m.add_cog_layer(uri)\n"
   ]
  },
  {
   "cell_type": "code",
   "execution_count": 6,
   "metadata": {},
   "outputs": [
    {
     "data": {
      "application/vnd.jupyter.widget-view+json": {
       "model_id": "87dff20c317c4759bbd77a85ae87155a",
       "version_major": 2,
       "version_minor": 0
      },
      "text/plain": [
       "Map(center=[43.03150069016582, -88.03102997199787], controls=(ZoomControl(options=['position', 'zoom_in_text',…"
      ]
     },
     "execution_count": 6,
     "metadata": {},
     "output_type": "execute_result"
    }
   ],
   "source": [
    "gdf = gpd.read_parquet(output_path)\n",
    "m.add_gdf(gdf)\n",
    "m"
   ]
  }
 ],
 "metadata": {
  "kernelspec": {
   "display_name": "ultralytics-env",
   "language": "python",
   "name": "python3"
  },
  "language_info": {
   "codemirror_mode": {
    "name": "ipython",
    "version": 3
   },
   "file_extension": ".py",
   "mimetype": "text/x-python",
   "name": "python",
   "nbconvert_exporter": "python",
   "pygments_lexer": "ipython3",
   "version": "3.10.15"
  }
 },
 "nbformat": 4,
 "nbformat_minor": 2
}
